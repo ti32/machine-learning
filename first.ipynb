{
 "cells": [
  {
   "cell_type": "code",
   "execution_count": 2,
   "id": "d6bdc109",
   "metadata": {},
   "outputs": [],
   "source": [
    "import pandas as pd\n",
    "import numpy as pd \n",
    "import matplotlib.pyplot as plt\n",
    "%matplotlib inline"
   ]
  },
  {
   "cell_type": "code",
   "execution_count": 1,
   "id": "9a3420fd",
   "metadata": {},
   "outputs": [
    {
     "name": "stdout",
     "output_type": "stream",
     "text": [
      "(506, 13)\n",
      "['crim', 'zn', 'indus', 'chas', 'nox', 'rm', 'age', 'dis', 'rad', 'tax', 'ptratio', 'b', 'lstat']\n"
     ]
    }
   ],
   "source": [
    "import pandas as pd\n",
    "from sklearn.utils import Bunch\n",
    "\n",
    "# Download dataset\n",
    "url = \"https://raw.githubusercontent.com/selva86/datasets/master/BostonHousing.csv\"\n",
    "boston_df = pd.read_csv(url)\n",
    "\n",
    "# Features and target\n",
    "X = boston_df.drop(\"medv\", axis=1).values\n",
    "y = boston_df[\"medv\"].values\n",
    "\n",
    "# Create a sklearn-like \"Bunch\" object\n",
    "boston = Bunch(\n",
    "    data=X,\n",
    "    target=y,\n",
    "    feature_names=boston_df.columns[:-1].tolist(),\n",
    "    DESCR=\"Boston Housing dataset\"\n",
    ")\n",
    "\n",
    "print(boston.data.shape)\n",
    "print(boston.feature_names)\n"
   ]
  },
  {
   "cell_type": "code",
   "execution_count": null,
   "id": "02102183",
   "metadata": {},
   "outputs": [],
   "source": [
    "boston_df =load_boston()"
   ]
  },
  {
   "cell_type": "code",
   "execution_count": null,
   "id": "4a4d43f6",
   "metadata": {},
   "outputs": [],
   "source": []
  }
 ],
 "metadata": {
  "kernelspec": {
   "display_name": "Python 3",
   "language": "python",
   "name": "python3"
  },
  "language_info": {
   "codemirror_mode": {
    "name": "ipython",
    "version": 3
   },
   "file_extension": ".py",
   "mimetype": "text/x-python",
   "name": "python",
   "nbconvert_exporter": "python",
   "pygments_lexer": "ipython3",
   "version": "3.12.4"
  }
 },
 "nbformat": 4,
 "nbformat_minor": 5
}
